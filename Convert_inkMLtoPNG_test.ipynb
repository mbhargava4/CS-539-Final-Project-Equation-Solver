{
  "nbformat": 4,
  "nbformat_minor": 0,
  "metadata": {
    "colab": {
      "provenance": [],
      "authorship_tag": "ABX9TyNxiCwV2M4LrsnY282OH9Yn",
      "include_colab_link": true
    },
    "kernelspec": {
      "name": "python3",
      "display_name": "Python 3"
    },
    "language_info": {
      "name": "python"
    }
  },
  "cells": [
    {
      "cell_type": "markdown",
      "metadata": {
        "id": "view-in-github",
        "colab_type": "text"
      },
      "source": [
        "<a href=\"https://colab.research.google.com/github/mbhargava4/CS-539-Final-Project-Equation-Solver/blob/main/Convert_inkMLtoPNG_test.ipynb\" target=\"_parent\"><img src=\"https://colab.research.google.com/assets/colab-badge.svg\" alt=\"Open In Colab\"/></a>"
      ]
    },
    {
      "cell_type": "code",
      "execution_count": 25,
      "metadata": {
        "colab": {
          "base_uri": "https://localhost:8080/"
        },
        "id": "HX9KbllSnh2G",
        "outputId": "87f6304e-4215-4bd5-863e-f9fc6ffe14b5"
      },
      "outputs": [
        {
          "output_type": "stream",
          "name": "stdout",
          "text": [
            "Requirement already satisfied: split-folders in /usr/local/lib/python3.10/dist-packages (0.5.1)\n",
            "Drive already mounted at /content/drive/; to attempt to forcibly remount, call drive.mount(\"/content/drive/\", force_remount=True).\n"
          ]
        }
      ],
      "source": [
        "import numpy as np\n",
        "import pandas as pd\n",
        "import matplotlib.pyplot as plt\n",
        "import matplotlib.image as mpimg\n",
        "from skimage.transform import resize\n",
        "import xml.etree.ElementTree as ET\n",
        "import os\n",
        "from tqdm import tqdm\n",
        "import cv2\n",
        "!pip install split-folders\n",
        "from google.colab import drive\n",
        "drive.mount('/content/drive/')"
      ]
    },
    {
      "cell_type": "code",
      "source": [
        "path = '/content/drive/MyDrive/ECE_class/CS 539 Group /data_inkml'\n",
        "def seed_everything(seed):\n",
        "\n",
        "    os.environ['PYTHONHASHSEED'] = str(seed)\n",
        "    np.random.seed(seed)\n",
        "\n",
        "\n",
        "SEED = 999\n",
        "seed_everything(SEED)"
      ],
      "metadata": {
        "id": "Lfzg7BSXoBjH"
      },
      "execution_count": 26,
      "outputs": []
    },
    {
      "cell_type": "code",
      "source": [
        "def get_traces_data(inkml_file_abs_path):\n",
        "\n",
        "\n",
        "    traces_data = []\n",
        "\n",
        "    tree = ET.parse(inkml_file_abs_path)\n",
        "    root = tree.getroot()\n",
        "    doc_namespace = \"{http://www.w3.org/2003/InkML}\"\n",
        "    traces_all = [{'id': trace_tag.get('id'),\n",
        "    \t\t\t\t\t'coords': [[round(float(axis_coord)) if float(axis_coord).is_integer() else round(float(axis_coord) * 10000) \\\n",
        "    \t\t\t\t\t\t\t\t\tfor axis_coord in coord[1:].split(' ')] if coord.startswith(' ') \\\n",
        "    \t\t\t\t\t\t\t\telse [round(float(axis_coord)) if float(axis_coord).is_integer() else round(float(axis_coord) * 10000) \\\n",
        "    \t\t\t\t\t\t\t\t\tfor axis_coord in coord.split(' ')] \\\n",
        "    \t\t\t\t\t\t\tfor coord in (trace_tag.text).replace('\\n', '').split(',')]} \\\n",
        "    \t\t\t\t\t\t\tfor trace_tag in root.findall(doc_namespace + 'trace')]\n",
        "\n",
        "    traces_all.sort(key=lambda trace_dict: int(trace_dict['id']))\n",
        "    traceGroupWrapper = root.find(doc_namespace + 'traceGroup')\n",
        "\n",
        "    if traceGroupWrapper is not None:\n",
        "        for traceGroup in traceGroupWrapper.findall(doc_namespace + 'traceGroup'):\n",
        "\n",
        "            label = traceGroup.find(doc_namespace + 'annotation').text\n",
        "\n",
        "            traces_curr = []\n",
        "            for traceView in traceGroup.findall(doc_namespace + 'traceView'):\n",
        "\n",
        "                traceDataRef = int(traceView.get('traceDataRef'))\n",
        "\n",
        "                single_trace = traces_all[traceDataRef]['coords']\n",
        "                traces_curr.append(single_trace)\n",
        "\n",
        "            traces_data.append({'label': label, 'trace_group': traces_curr})\n",
        "\n",
        "    else:\n",
        "        [traces_data.append({'trace_group': [trace['coords']]}) for trace in traces_all]\n",
        "\n",
        "    return traces_data"
      ],
      "metadata": {
        "id": "MKxwTCRbqd_1"
      },
      "execution_count": 27,
      "outputs": []
    },
    {
      "cell_type": "code",
      "source": [
        "def inkml2img(input_path, output_path):\n",
        "    traces = get_traces_data(input_path)\n",
        "    path_parts = input_path.split('/')\n",
        "    filename = path_parts[-1].split('.')[0]\n",
        "    for i, elem in enumerate(traces):\n",
        "        plt.gca().invert_yaxis()\n",
        "        plt.gca().set_aspect('equal', adjustable='box')\n",
        "        plt.axis('off')\n",
        "        plt.plot([0], [0])\n",
        "        ls = elem.get('trace_group', [])  # Use .get() to safely retrieve 'trace_group'\n",
        "        for subls in ls:\n",
        "            data = np.array(subls)\n",
        "            x, y = zip(*data)\n",
        "            plt.plot(x, y, linewidth=2, c='black')\n",
        "\n",
        "        os.makedirs(output_path, exist_ok=True)\n",
        "        filepath = os.path.join(output_path, f\"{filename}_{i}.png\")\n",
        "        if not os.path.exists(filepath):\n",
        "            plt.savefig(filepath, bbox_inches='tight', pad_inches=0, dpi=100)\n",
        "            plt.clf() # Clear current figure"
      ],
      "metadata": {
        "id": "AONOgUY9qhrI"
      },
      "execution_count": 28,
      "outputs": []
    },
    {
      "cell_type": "code",
      "source": [
        "images = os.listdir(os.getcwd() + '/drive/MyDrive/ECE_class/CS 539 Group /data_inkml/CROHME_test_2011')\n",
        "for image in images:\n",
        "    inkml2img('/content/drive/MyDrive/ECE_class/CS 539 Group /data_inkml/CROHME_test_2011/'+image, '/content/drive/MyDrive/ECE_class/CS 539 Group /processed_data_test')"
      ],
      "metadata": {
        "id": "quufEP6Er1Y-",
        "colab": {
          "base_uri": "https://localhost:8080/",
          "height": 34
        },
        "outputId": "8236b5e1-6dc2-421f-eb55-25c64a85a1e5"
      },
      "execution_count": 29,
      "outputs": [
        {
          "output_type": "display_data",
          "data": {
            "text/plain": [
              "<Figure size 640x480 with 0 Axes>"
            ]
          },
          "metadata": {}
        }
      ]
    }
  ]
}