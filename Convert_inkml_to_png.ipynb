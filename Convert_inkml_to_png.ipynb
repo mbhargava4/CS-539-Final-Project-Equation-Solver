{
  "nbformat": 4,
  "nbformat_minor": 0,
  "metadata": {
    "colab": {
      "provenance": [],
      "include_colab_link": true
    },
    "kernelspec": {
      "name": "python3",
      "display_name": "Python 3"
    },
    "language_info": {
      "name": "python"
    }
  },
  "cells": [
    {
      "cell_type": "markdown",
      "metadata": {
        "id": "view-in-github",
        "colab_type": "text"
      },
      "source": [
        "<a href=\"https://colab.research.google.com/github/mbhargava4/CS-539-Final-Project-Equation-Solver/blob/main/Convert_inkml_to_png.ipynb\" target=\"_parent\"><img src=\"https://colab.research.google.com/assets/colab-badge.svg\" alt=\"Open In Colab\"/></a>"
      ]
    },
    {
      "cell_type": "code",
      "execution_count": 29,
      "metadata": {
        "id": "K1kK2NExDIHD",
        "colab": {
          "base_uri": "https://localhost:8080/"
        },
        "outputId": "ac970bd1-abf9-43c3-b712-4c426281bc65"
      },
      "outputs": [
        {
          "output_type": "stream",
          "name": "stdout",
          "text": [
            "Requirement already satisfied: split-folders in /usr/local/lib/python3.10/dist-packages (0.5.1)\n",
            "Drive already mounted at /content/drive/; to attempt to forcibly remount, call drive.mount(\"/content/drive/\", force_remount=True).\n"
          ]
        }
      ],
      "source": [
        "import numpy as np\n",
        "import pandas as pd\n",
        "import matplotlib.pyplot as plt\n",
        "import matplotlib.image as mpimg\n",
        "from skimage.transform import resize\n",
        "import xml.etree.ElementTree as ET\n",
        "import os\n",
        "from tqdm import tqdm\n",
        "import cv2\n",
        "!pip install split-folders\n",
        "from google.colab import drive\n",
        "drive.mount('/content/drive/')"
      ]
    },
    {
      "cell_type": "code",
      "source": [
        "path = '/content/drive/MyDrive/ECE_class/CS 539 Group /data_inkml'\n",
        "def seed_everything(seed):\n",
        "\n",
        "    os.environ['PYTHONHASHSEED'] = str(seed)\n",
        "    np.random.seed(seed)\n",
        "\n",
        "\n",
        "SEED = 999\n",
        "seed_everything(SEED)"
      ],
      "metadata": {
        "id": "L9TX3GLXbu8R"
      },
      "execution_count": 30,
      "outputs": []
    },
    {
      "cell_type": "code",
      "source": [
        "def get_traces_data(inkml_file_abs_path):\n",
        "\n",
        "\n",
        "    traces_data = []\n",
        "\n",
        "    tree = ET.parse(inkml_file_abs_path)\n",
        "    root = tree.getroot()\n",
        "    doc_namespace = \"{http://www.w3.org/2003/InkML}\"\n",
        "    traces_all = [{'id': trace_tag.get('id'),\n",
        "    \t\t\t\t\t'coords': [[round(float(axis_coord)) if float(axis_coord).is_integer() else round(float(axis_coord) * 10000) \\\n",
        "    \t\t\t\t\t\t\t\t\tfor axis_coord in coord[1:].split(' ')] if coord.startswith(' ') \\\n",
        "    \t\t\t\t\t\t\t\telse [round(float(axis_coord)) if float(axis_coord).is_integer() else round(float(axis_coord) * 10000) \\\n",
        "    \t\t\t\t\t\t\t\t\tfor axis_coord in coord.split(' ')] \\\n",
        "    \t\t\t\t\t\t\tfor coord in (trace_tag.text).replace('\\n', '').split(',')]} \\\n",
        "    \t\t\t\t\t\t\tfor trace_tag in root.findall(doc_namespace + 'trace')]\n",
        "\n",
        "    traces_all.sort(key=lambda trace_dict: int(trace_dict['id']))\n",
        "    traceGroupWrapper = root.find(doc_namespace + 'traceGroup')\n",
        "\n",
        "    if traceGroupWrapper is not None:\n",
        "        for traceGroup in traceGroupWrapper.findall(doc_namespace + 'traceGroup'):\n",
        "\n",
        "            label = traceGroup.find(doc_namespace + 'annotation').text\n",
        "\n",
        "            traces_curr = []\n",
        "            for traceView in traceGroup.findall(doc_namespace + 'traceView'):\n",
        "\n",
        "                traceDataRef = int(traceView.get('traceDataRef'))\n",
        "\n",
        "                single_trace = traces_all[traceDataRef]['coords']\n",
        "                traces_curr.append(single_trace)\n",
        "\n",
        "            traces_data.append({'label': label, 'trace_group': traces_curr})\n",
        "\n",
        "    else:\n",
        "        [traces_data.append({'trace_group': [trace['coords']]}) for trace in traces_all]\n",
        "\n",
        "    return traces_data"
      ],
      "metadata": {
        "id": "TSGptP1VurGb"
      },
      "execution_count": 31,
      "outputs": []
    },
    {
      "cell_type": "code",
      "source": [
        "def inkml2img(input_path, output_path):\n",
        "    traces = get_traces_data(input_path)\n",
        "    path_parts = input_path.split('/')\n",
        "    filename = path_parts[-1].split('.')[0]\n",
        "\n",
        "    for i, elem in enumerate(traces):\n",
        "        plt.gca().invert_yaxis()\n",
        "        plt.gca().set_aspect('equal', adjustable='box')\n",
        "        plt.axis('off')\n",
        "        plt.plot([0], [0])\n",
        "        ls = elem['trace_group']\n",
        "        for subls in ls:\n",
        "            data = np.array(subls)\n",
        "            x, y = zip(*data)\n",
        "            plt.plot(x, y, linewidth=2, c='black')\n",
        "\n",
        "        capital_list = ['A', 'B', 'C', 'F', 'X', 'Y']\n",
        "        label = 'capital_' + elem['label'] if elem['label'] in capital_list else elem['label']\n",
        "        ind_output_path = os.path.join(output_path, label)\n",
        "\n",
        "        os.makedirs(ind_output_path, exist_ok=True)\n",
        "\n",
        "        filepath = os.path.join(ind_output_path, f\"{filename}_{i}.png\")\n",
        "        if not os.path.exists(filepath):\n",
        "            plt.savefig(filepath, bbox_inches='tight', pad_inches=0, dpi=100)\n",
        "        plt.clf()  # Clear current figure"
      ],
      "metadata": {
        "id": "w0y_E43zu1KX"
      },
      "execution_count": 32,
      "outputs": []
    },
    {
      "cell_type": "code",
      "source": [
        "import os\n",
        "image_data_folder = '/kaggle/Image_data'\n",
        "final_train_folder = '/kaggle/Image_data/finaltrain'\n",
        "\n",
        "if not os.path.exists(image_data_folder):\n",
        "    os.mkdir(image_data_folder)\n",
        "    print(\"Folder 'Image_data' created successfully at:\", image_data_folder)\n",
        "else:\n",
        "    print(\"Folder 'Image_data' already exists at:\", image_data_folder)\n",
        "\n",
        "if not os.path.exists(final_train_folder):\n",
        "    os.mkdir(final_train_folder)\n",
        "    print(\"Folder 'finaltrain' created successfully at:\", final_train_folder)\n",
        "else:\n",
        "    print(\"Folder 'finaltrain' already exists at:\", final_train_folder)\n"
      ],
      "metadata": {
        "colab": {
          "base_uri": "https://localhost:8080/"
        },
        "id": "zniG42JoGxxb",
        "outputId": "62785fc4-6989-4d7f-d10d-ca95313bd0e9"
      },
      "execution_count": 33,
      "outputs": [
        {
          "output_type": "stream",
          "name": "stdout",
          "text": [
            "Folder 'Image_data' already exists at: /kaggle/Image_data\n",
            "Folder 'finaltrain' already exists at: /kaggle/Image_data/finaltrain\n"
          ]
        }
      ]
    },
    {
      "cell_type": "code",
      "source": [
        "files = os.listdir(os.getcwd() + '/drive/MyDrive/ECE_class/CS 539 Group /data_inkml/CROHME_training_2011')\n",
        "for file in tqdm(files):\n",
        "    inkml2img(path + '/CROHME_training_2011/' + file, '/content/drive/MyDrive/ECE_class/CS 539 Group /processed_data')"
      ],
      "metadata": {
        "colab": {
          "base_uri": "https://localhost:8080/",
          "height": 106
        },
        "id": "gaDeY5ygGR52",
        "outputId": "2ba1f201-7cc1-4a38-e3fd-767295b0f562"
      },
      "execution_count": 36,
      "outputs": [
        {
          "output_type": "stream",
          "name": "stdout",
          "text": [
            "/content/drive/MyDrive/ECE_class/CS 539 Group /data_inkml\n",
            "['TrainData2_1_sub_9.inkml', 'TrainData2_18_sub_49.inkml', 'TrainData2_7_sub_98.inkml', 'TrainData2_7_sub_88.inkml', 'formulaire008-equation051.inkml', 'TrainData2_20_sub_73.inkml', 'TrainData2_14_sub_39.inkml', 'TrainData2_26_sub_73.inkml', 'TrainData1_7_sub_21.inkml', 'TrainData2_11_sub_17.inkml', 'TrainData2_12_sub_9.inkml', 'TrainData2_14_sub_33.inkml', 'TrainData2_21_sub_98.inkml', 'formulaire002-equation006.inkml', 'TrainData2_4_sub_98.inkml', 'TrainData2_10_sub_95.inkml', 'TrainData2_7_sub_9.inkml', 'TrainData2_23_sub_20.inkml', 'TrainData2_22_sub_9.inkml', 'formulaire004-equation048.inkml', 'TrainData2_21_sub_49.inkml', 'TrainData2_18_sub_46.inkml', 'TrainData2_4_sub_39.inkml', 'formulaire006-equation003.inkml', 'TrainData2_2_sub_33.inkml', 'TrainData2_22_sub_17.inkml', 'formulaire001-equation036.inkml', 'TrainData2_10_sub_73.inkml', 'TrainData2_13_sub_29.inkml', 'formulaire006-equation051.inkml', 'formulaire007-equation036.inkml', 'TrainData1_2_sub_9.inkml', 'TrainData2_16_sub_73.inkml', 'TrainData1_8_sub_19.inkml', 'TrainData1_3_sub_28.inkml', 'TrainData1_3_sub_7.inkml', 'TrainData2_1_sub_39.inkml', 'TrainData2_6_sub_13.inkml', 'TrainData2_26_sub_61.inkml', 'formulaire006-equation066.inkml', 'TrainData2_14_sub_6.inkml', 'formulaire007-equation015.inkml', 'TrainData2_16_sub_39.inkml', 'TrainData2_15_sub_88.inkml', 'TrainData2_22_sub_88.inkml', 'TrainData2_5_sub_63.inkml', 'formulaire003-equation013.inkml', 'formulaire005-equation065.inkml', 'TrainData2_18_sub_98.inkml', 'TrainData2_9_sub_43.inkml', 'TrainData1_4_sub_1.inkml', 'TrainData2_23_sub_43.inkml', 'TrainData2_2_sub_61.inkml', 'TrainData2_9_sub_17.inkml', 'formulaire007-equation050.inkml', 'TrainData2_19_sub_11.inkml', 'TrainData2_11_sub_6.inkml', 'formulaire003-equation060.inkml', 'TrainData2_15_sub_71.inkml', 'TrainData2_23_sub_1.inkml', 'TrainData2_4_sub_29.inkml', 'TrainData2_6_sub_17.inkml', 'TrainData2_18_sub_61.inkml', 'TrainData2_10_sub_17.inkml', 'formulaire001-equation060.inkml', 'TrainData2_16_sub_61.inkml', 'formulaire001-equation050.inkml', 'TrainData2_8_sub_73.inkml', 'TrainData2_6_sub_9.inkml', 'TrainData2_15_sub_61.inkml', 'TrainData2_0_sub_33.inkml', 'formulaire008-equation016.inkml', 'TrainData2_8_sub_15.inkml', 'formulaire005-equation046.inkml', 'TrainData2_12_sub_17.inkml', 'TrainData1_4_sub_15.inkml', 'TrainData2_6_sub_11.inkml', 'TrainData2_20_sub_46.inkml', 'TrainData2_6_sub_73.inkml', 'TrainData2_20_sub_9.inkml', 'TrainData2_5_sub_6.inkml', 'TrainData2_17_sub_46.inkml', 'TrainData2_22_sub_39.inkml', 'formulaire003-equation036.inkml', 'TrainData2_25_sub_29.inkml', 'TrainData2_4_sub_41.inkml', 'TrainData2_14_sub_11.inkml', 'TrainData2_21_sub_1.inkml', 'TrainData2_1_sub_20.inkml', 'TrainData2_7_sub_39.inkml', 'TrainData1_5_sub_9.inkml', 'TrainData2_9_sub_95.inkml', 'TrainData2_20_sub_15.inkml', 'TrainData2_17_sub_6.inkml', 'TrainData2_1_sub_61.inkml', 'TrainData2_8_sub_98.inkml', 'formulaire007-equation038.inkml', 'formulaire001-equation024.inkml', 'TrainData2_26_sub_20.inkml', 'TrainData2_10_sub_61.inkml', 'TrainData2_0_sub_6.inkml', 'TrainData2_6_sub_20.inkml', 'TrainData2_6_sub_88.inkml', 'TrainData2_12_sub_98.inkml', 'TrainData2_12_sub_88.inkml', 'formulaire008-equation008.inkml', 'TrainData2_18_sub_95.inkml', 'TrainData2_12_sub_20.inkml', 'TrainData2_10_sub_15.inkml', 'TrainData2_10_sub_20.inkml', 'TrainData2_19_sub_46.inkml', 'formulaire001-equation031.inkml', 'TrainData2_18_sub_13.inkml', 'TrainData2_21_sub_33.inkml', 'TrainData1_4_sub_19.inkml', 'TrainData2_26_sub_88.inkml', 'formulaire002-equation010.inkml', 'TrainData2_14_sub_88.inkml', 'TrainData1_8_sub_1.inkml', 'TrainData2_3_sub_46.inkml', 'TrainData2_15_sub_1.inkml', 'TrainData2_24_sub_9.inkml', 'TrainData2_20_sub_43.inkml', 'TrainData2_18_sub_29.inkml', 'formulaire007-equation011.inkml', 'TrainData2_13_sub_1.inkml', 'TrainData2_5_sub_95.inkml', 'TrainData2_12_sub_29.inkml', 'TrainData2_11_sub_51.inkml', 'TrainData2_2_sub_17.inkml', 'TrainData2_7_sub_6.inkml', 'formulaire002-equation059.inkml', 'TrainData2_11_sub_20.inkml', 'formulaire004-equation038.inkml', 'formulaire003-equation023.inkml', 'TrainData2_11_sub_73.inkml', 'TrainData2_20_sub_20.inkml', 'TrainData2_9_sub_98.inkml', 'formulaire001-equation041.inkml', 'TrainData2_6_sub_41.inkml', 'TrainData2_24_sub_43.inkml', 'TrainData2_9_sub_88.inkml', 'TrainData2_3_sub_41.inkml', 'TrainData2_17_sub_43.inkml', 'TrainData2_14_sub_73.inkml', 'TrainData2_18_sub_43.inkml', 'TrainData2_21_sub_13.inkml', 'formulaire006-equation005.inkml', 'formulaire003-equation005.inkml', 'TrainData1_8_sub_9.inkml', 'TrainData2_8_sub_39.inkml', 'formulaire005-equation043.inkml', 'formulaire005-equation060.inkml', 'TrainData2_2_sub_20.inkml', 'formulaire003-equation000.inkml', 'TrainData2_24_sub_11.inkml', 'TrainData2_12_sub_95.inkml', 'TrainData1_1_sub_7.inkml', 'TrainData2_19_sub_29.inkml', 'formulaire003-equation030.inkml', 'TrainData2_17_sub_41.inkml', 'TrainData2_23_sub_9.inkml', 'TrainData2_19_sub_88.inkml', 'TrainData2_24_sub_61.inkml', 'TrainData2_8_sub_63.inkml', 'TrainData2_6_sub_39.inkml', 'TrainData2_0_sub_43.inkml', 'TrainData2_25_sub_6.inkml', 'TrainData2_16_sub_29.inkml', 'TrainData2_4_sub_33.inkml', 'TrainData2_13_sub_11.inkml', 'formulaire008-equation018.inkml', 'TrainData2_25_sub_33.inkml', 'TrainData2_12_sub_39.inkml', 'TrainData2_26_sub_13.inkml', 'TrainData2_12_sub_43.inkml', 'TrainData2_10_sub_88.inkml', 'TrainData2_24_sub_1.inkml', 'TrainData2_3_sub_88.inkml', 'TrainData2_6_sub_95.inkml', 'TrainData2_22_sub_20.inkml', 'TrainData2_19_sub_95.inkml', 'formulaire004-equation071.inkml', 'TrainData1_8_sub_5.inkml', 'TrainData2_5_sub_15.inkml', 'TrainData1_2_sub_12.inkml', 'TrainData2_18_sub_33.inkml', 'TrainData2_25_sub_41.inkml', 'formulaire002-equation073.inkml', 'formulaire004-equation011.inkml', 'formulaire007-equation025.inkml', 'TrainData2_4_sub_51.inkml', 'formulaire002-equation063.inkml', 'TrainData2_0_sub_39.inkml', 'TrainData2_25_sub_98.inkml', 'TrainData2_19_sub_6.inkml', 'TrainData2_14_sub_71.inkml', 'TrainData2_10_sub_1.inkml', 'TrainData2_8_sub_71.inkml', 'formulaire004-equation005.inkml', 'TrainData1_5_sub_19.inkml', 'formulaire005-equation056.inkml', 'formulaire002-equation023.inkml', 'TrainData2_8_sub_33.inkml', 'TrainData2_0_sub_88.inkml', 'formulaire001-equation045.inkml', 'TrainData2_16_sub_11.inkml', 'formulaire007-equation051.inkml', 'TrainData1_6_sub_15.inkml', 'formulaire008-equation023.inkml', 'TrainData2_3_sub_29.inkml', 'formulaire002-equation066.inkml', 'TrainData1_0_sub_19.inkml', 'formulaire005-equation031.inkml', 'TrainData1_5_sub_28.inkml', 'TrainData2_0_sub_20.inkml', 'TrainData2_13_sub_73.inkml', 'TrainData2_5_sub_73.inkml', 'TrainData2_7_sub_33.inkml', 'TrainData2_3_sub_17.inkml', 'TrainData2_4_sub_49.inkml', 'TrainData2_25_sub_11.inkml', 'formulaire001-equation030.inkml', 'TrainData2_1_sub_6.inkml', 'TrainData2_7_sub_61.inkml', 'formulaire003-equation010.inkml', 'formulaire002-equation001.inkml', 'TrainData2_25_sub_71.inkml', 'formulaire003-equation031.inkml', 'TrainData2_4_sub_15.inkml', 'TrainData2_13_sub_17.inkml', 'TrainData2_17_sub_61.inkml', 'TrainData2_2_sub_11.inkml', 'TrainData2_1_sub_29.inkml', 'TrainData1_6_sub_24.inkml', 'TrainData2_13_sub_49.inkml', 'TrainData2_16_sub_43.inkml', 'TrainData2_22_sub_71.inkml', 'TrainData2_1_sub_33.inkml', 'formulaire005-equation010.inkml', 'formulaire005-equation048.inkml', 'TrainData2_13_sub_41.inkml', 'TrainData2_24_sub_98.inkml', 'TrainData2_2_sub_49.inkml', 'formulaire008-equation056.inkml', 'TrainData2_24_sub_15.inkml', 'TrainData2_8_sub_51.inkml', 'TrainData2_2_sub_88.inkml', 'formulaire003-equation021.inkml', 'TrainData2_17_sub_88.inkml', 'formulaire005-equation071.inkml', 'TrainData2_8_sub_29.inkml', 'TrainData2_12_sub_46.inkml', 'TrainData2_10_sub_41.inkml', 'formulaire006-equation045.inkml', 'formulaire005-equation073.inkml', 'TrainData2_26_sub_6.inkml', 'TrainData2_16_sub_1.inkml', 'TrainData2_17_sub_95.inkml', 'TrainData1_6_sub_9.inkml', 'TrainData2_16_sub_6.inkml', 'TrainData2_24_sub_88.inkml', 'TrainData1_7_sub_5.inkml', 'formulaire002-equation028.inkml', 'TrainData2_19_sub_51.inkml', 'TrainData2_17_sub_51.inkml', 'formulaire006-equation006.inkml', 'formulaire004-equation061.inkml', 'TrainData2_23_sub_13.inkml', 'TrainData2_24_sub_33.inkml', 'formulaire001-equation046.inkml', 'TrainData2_11_sub_39.inkml', 'TrainData1_1_sub_5.inkml', 'formulaire007-equation000.inkml', 'TrainData2_15_sub_33.inkml', 'TrainData2_26_sub_95.inkml', 'TrainData2_3_sub_98.inkml', 'TrainData1_4_sub_21.inkml', 'TrainData2_22_sub_1.inkml', 'TrainData2_17_sub_71.inkml', 'formulaire007-equation070.inkml', 'TrainData2_15_sub_41.inkml', 'TrainData2_14_sub_41.inkml', 'TrainData2_21_sub_6.inkml', 'formulaire008-equation025.inkml', 'TrainData2_26_sub_49.inkml', 'formulaire007-equation048.inkml', 'formulaire001-equation049.inkml', 'TrainData2_11_sub_11.inkml', 'formulaire006-equation031.inkml', 'TrainData2_25_sub_9.inkml', 'TrainData2_13_sub_39.inkml', 'TrainData2_20_sub_49.inkml', 'TrainData2_16_sub_33.inkml', 'TrainData2_3_sub_39.inkml', 'TrainData2_16_sub_13.inkml', 'TrainData2_7_sub_41.inkml', 'TrainData2_20_sub_33.inkml', 'TrainData2_2_sub_41.inkml', 'formulaire005-equation020.inkml', 'TrainData2_7_sub_17.inkml', 'TrainData1_0_sub_9.inkml', 'TrainData2_7_sub_63.inkml', 'TrainData2_21_sub_29.inkml', 'TrainData2_10_sub_11.inkml', 'TrainData2_16_sub_71.inkml', 'TrainData2_12_sub_71.inkml', 'TrainData2_18_sub_11.inkml', 'TrainData2_5_sub_1.inkml', 'formulaire006-equation016.inkml', 'TrainData2_22_sub_6.inkml', 'TrainData1_2_sub_5.inkml', 'TrainData2_15_sub_73.inkml', 'formulaire008-equation073.inkml', 'TrainData2_4_sub_11.inkml', 'TrainData2_5_sub_88.inkml', 'TrainData2_23_sub_49.inkml', 'TrainData2_7_sub_11.inkml', 'formulaire004-equation039.inkml', 'TrainData2_7_sub_73.inkml', 'TrainData2_2_sub_95.inkml', 'TrainData2_0_sub_9.inkml', 'TrainData2_1_sub_11.inkml', 'TrainData2_9_sub_61.inkml', 'TrainData2_1_sub_95.inkml', 'TrainData2_7_sub_29.inkml', 'TrainData1_6_sub_7.inkml', 'TrainData2_20_sub_51.inkml', 'TrainData1_6_sub_1.inkml', 'TrainData1_0_sub_21.inkml', 'TrainData2_8_sub_20.inkml', 'TrainData2_24_sub_17.inkml', 'formulaire007-equation026.inkml', 'TrainData2_25_sub_88.inkml', 'TrainData2_2_sub_13.inkml', 'TrainData1_3_sub_19.inkml', 'formulaire006-equation053.inkml', 'TrainData2_26_sub_63.inkml', 'TrainData2_7_sub_95.inkml', 'TrainData2_1_sub_43.inkml', 'TrainData1_3_sub_15.inkml', 'TrainData2_5_sub_33.inkml', 'TrainData2_14_sub_43.inkml', 'TrainData2_8_sub_17.inkml', 'TrainData2_22_sub_29.inkml', 'formulaire005-equation001.inkml', 'TrainData2_7_sub_20.inkml', 'TrainData2_0_sub_51.inkml', 'formulaire003-equation051.inkml', 'TrainData2_15_sub_51.inkml', 'TrainData2_0_sub_98.inkml', 'TrainData2_11_sub_46.inkml', 'TrainData2_14_sub_1.inkml', 'formulaire003-equation001.inkml', 'TrainData1_4_sub_28.inkml', 'formulaire001-equation028.inkml', 'TrainData2_9_sub_49.inkml', 'formulaire002-equation065.inkml', 'TrainData1_1_sub_19.inkml', 'TrainData2_16_sub_51.inkml', 'TrainData2_23_sub_46.inkml', 'TrainData2_18_sub_63.inkml', 'TrainData2_0_sub_73.inkml', 'TrainData1_8_sub_12.inkml', 'TrainData2_17_sub_29.inkml', 'TrainData2_24_sub_41.inkml', 'formulaire005-equation026.inkml', 'TrainData2_22_sub_13.inkml', 'TrainData1_7_sub_12.inkml', 'TrainData2_25_sub_63.inkml', 'TrainData2_17_sub_49.inkml', 'formulaire005-equation061.inkml', 'formulaire001-equation010.inkml', 'TrainData2_21_sub_46.inkml', 'formulaire007-equation020.inkml', 'TrainData2_14_sub_95.inkml', 'formulaire001-equation003.inkml', 'TrainData2_1_sub_71.inkml', 'TrainData2_13_sub_43.inkml', 'TrainData2_3_sub_1.inkml', 'TrainData2_1_sub_1.inkml', 'formulaire002-equation071.inkml', 'TrainData2_3_sub_51.inkml', 'TrainData2_18_sub_6.inkml', 'formulaire002-equation018.inkml', 'TrainData2_21_sub_88.inkml', 'TrainData2_3_sub_9.inkml', 'TrainData2_19_sub_1.inkml', 'TrainData2_4_sub_95.inkml', 'TrainData2_16_sub_9.inkml', 'formulaire006-equation049.inkml', 'TrainData2_25_sub_46.inkml', 'formulaire002-equation051.inkml', 'TrainData2_8_sub_41.inkml', 'TrainData1_0_sub_24.inkml', 'TrainData2_3_sub_71.inkml', 'TrainData2_10_sub_29.inkml', 'formulaire004-equation020.inkml', 'TrainData1_3_sub_12.inkml', 'TrainData2_26_sub_41.inkml', 'TrainData2_17_sub_11.inkml', 'formulaire008-equation011.inkml', 'TrainData2_1_sub_88.inkml', 'TrainData2_13_sub_71.inkml', 'TrainData2_3_sub_73.inkml', 'TrainData2_10_sub_9.inkml', 'formulaire006-equation058.inkml', 'TrainData2_3_sub_6.inkml', 'TrainData1_2_sub_28.inkml', 'formulaire002-equation068.inkml', 'formulaire001-equation016.inkml', 'TrainData2_15_sub_98.inkml', 'TrainData2_20_sub_71.inkml', 'TrainData2_0_sub_71.inkml', 'TrainData2_3_sub_49.inkml', 'TrainData2_18_sub_9.inkml', 'TrainData1_7_sub_3.inkml', 'TrainData2_11_sub_15.inkml', 'TrainData1_7_sub_1.inkml', 'TrainData2_2_sub_39.inkml', 'TrainData2_23_sub_71.inkml', 'formulaire008-equation035.inkml', 'TrainData2_12_sub_49.inkml', 'formulaire006-equation025.inkml', 'TrainData2_22_sub_41.inkml', 'formulaire005-equation066.inkml', 'TrainData2_24_sub_63.inkml', 'TrainData2_10_sub_46.inkml', 'TrainData1_2_sub_1.inkml', 'formulaire002-equation056.inkml', 'TrainData2_2_sub_1.inkml', 'TrainData2_9_sub_73.inkml', 'TrainData2_5_sub_39.inkml', 'formulaire005-equation068.inkml', 'TrainData1_3_sub_24.inkml', 'TrainData2_5_sub_13.inkml', 'TrainData1_0_sub_7.inkml', 'TrainData2_1_sub_63.inkml', 'formulaire003-equation058.inkml', 'TrainData2_13_sub_20.inkml', 'TrainData1_2_sub_3.inkml', 'formulaire005-equation041.inkml', 'TrainData2_15_sub_9.inkml', 'TrainData1_2_sub_19.inkml', 'TrainData2_19_sub_61.inkml', 'TrainData2_22_sub_33.inkml', 'TrainData2_8_sub_49.inkml', 'TrainData2_23_sub_33.inkml', 'TrainData1_7_sub_24.inkml', 'TrainData2_25_sub_15.inkml', 'TrainData1_7_sub_7.inkml', 'formulaire002-equation041.inkml', 'formulaire001-equation023.inkml', 'TrainData2_16_sub_46.inkml', 'TrainData2_1_sub_73.inkml', 'TrainData2_26_sub_46.inkml', 'TrainData2_2_sub_6.inkml', 'TrainData2_20_sub_29.inkml', 'formulaire008-equation033.inkml', 'TrainData1_1_sub_21.inkml', 'TrainData2_5_sub_29.inkml', 'TrainData1_2_sub_24.inkml', 'formulaire005-equation038.inkml', 'TrainData1_6_sub_5.inkml', 'TrainData2_1_sub_13.inkml', 'formulaire007-equation010.inkml', 'TrainData2_26_sub_51.inkml', 'TrainData2_15_sub_95.inkml', 'TrainData1_8_sub_21.inkml', 'TrainData2_11_sub_13.inkml', 'TrainData2_17_sub_1.inkml', 'TrainData2_4_sub_71.inkml', 'TrainData2_15_sub_63.inkml', 'formulaire001-equation056.inkml', 'TrainData2_26_sub_15.inkml', 'TrainData2_13_sub_63.inkml', 'TrainData2_0_sub_1.inkml', 'TrainData2_19_sub_98.inkml', 'TrainData2_17_sub_20.inkml', 'TrainData2_9_sub_51.inkml', 'formulaire004-equation030.inkml', 'TrainData2_21_sub_71.inkml', 'TrainData2_24_sub_71.inkml', 'formulaire004-equation068.inkml', 'TrainData2_20_sub_98.inkml', 'TrainData2_20_sub_11.inkml', 'TrainData2_1_sub_17.inkml', 'formulaire002-equation013.inkml', 'TrainData1_5_sub_3.inkml', 'TrainData2_5_sub_51.inkml', 'TrainData2_11_sub_63.inkml', 'formulaire006-equation070.inkml', 'TrainData2_11_sub_88.inkml', 'TrainData2_4_sub_46.inkml', 'TrainData2_18_sub_39.inkml', 'formulaire005-equation035.inkml', 'TrainData1_3_sub_5.inkml', 'TrainData2_1_sub_98.inkml', 'TrainData2_21_sub_39.inkml', 'TrainData1_5_sub_12.inkml', 'TrainData2_22_sub_15.inkml', 'TrainData2_6_sub_98.inkml', 'TrainData2_23_sub_61.inkml', 'TrainData1_4_sub_24.inkml', 'TrainData2_17_sub_17.inkml', 'TrainData2_19_sub_49.inkml', 'TrainData2_17_sub_39.inkml', 'TrainData1_6_sub_19.inkml', 'formulaire004-equation033.inkml', 'formulaire006-equation061.inkml', 'TrainData2_11_sub_33.inkml', 'TrainData2_14_sub_49.inkml', 'formulaire002-equation032.inkml', 'TrainData2_13_sub_9.inkml', 'TrainData2_3_sub_20.inkml', 'TrainData2_2_sub_43.inkml', 'formulaire003-equation061.inkml', 'TrainData2_26_sub_9.inkml', 'TrainData2_18_sub_15.inkml', 'TrainData2_23_sub_51.inkml', 'TrainData2_9_sub_33.inkml', 'TrainData2_4_sub_88.inkml', 'TrainData2_0_sub_13.inkml', 'TrainData2_12_sub_51.inkml', 'TrainData2_17_sub_63.inkml', 'TrainData2_25_sub_49.inkml', 'TrainData2_15_sub_43.inkml', 'TrainData1_6_sub_28.inkml', 'TrainData2_18_sub_71.inkml', 'formulaire008-equation070.inkml', 'TrainData2_20_sub_39.inkml', 'TrainData2_21_sub_51.inkml', 'TrainData2_0_sub_11.inkml', 'TrainData1_4_sub_12.inkml', 'TrainData2_24_sub_39.inkml', 'TrainData2_20_sub_41.inkml', 'TrainData2_13_sub_6.inkml', 'TrainData2_9_sub_41.inkml', 'TrainData2_24_sub_13.inkml', 'TrainData2_19_sub_9.inkml', 'TrainData2_3_sub_95.inkml', 'formulaire008-equation065.inkml', 'TrainData2_26_sub_43.inkml', 'TrainData2_14_sub_98.inkml', 'TrainData1_3_sub_21.inkml', 'formulaire006-equation048.inkml', 'TrainData2_19_sub_39.inkml', 'formulaire004-equation026.inkml', 'TrainData2_5_sub_98.inkml', 'TrainData2_12_sub_6.inkml', 'TrainData2_23_sub_95.inkml', 'formulaire005-equation018.inkml', 'TrainData2_23_sub_6.inkml', 'TrainData2_20_sub_61.inkml', 'formulaire008-equation000.inkml', 'TrainData2_9_sub_9.inkml', 'formulaire007-equation033.inkml', 'TrainData2_9_sub_13.inkml', 'formulaire004-equation009.inkml', 'TrainData2_26_sub_39.inkml', 'TrainData2_9_sub_15.inkml', 'TrainData2_23_sub_11.inkml', 'formulaire002-equation055.inkml', 'TrainData2_11_sub_1.inkml', 'formulaire005-equation028.inkml', 'TrainData2_19_sub_15.inkml', 'TrainData1_0_sub_1.inkml', 'TrainData2_11_sub_43.inkml', 'formulaire003-equation055.inkml', 'formulaire005-equation021.inkml', 'TrainData2_22_sub_73.inkml', 'TrainData2_17_sub_73.inkml', 'TrainData2_5_sub_61.inkml', 'TrainData2_19_sub_71.inkml', 'TrainData2_13_sub_95.inkml', 'formulaire008-equation041.inkml', 'TrainData1_1_sub_9.inkml', 'TrainData2_8_sub_43.inkml', 'formulaire006-equation008.inkml', 'TrainData2_10_sub_63.inkml', 'TrainData2_0_sub_41.inkml', 'TrainData2_7_sub_49.inkml', 'TrainData2_6_sub_46.inkml', 'TrainData2_3_sub_13.inkml', 'TrainData2_9_sub_39.inkml', 'TrainData2_3_sub_33.inkml', 'TrainData2_22_sub_63.inkml', 'formulaire004-equation036.inkml', 'TrainData1_8_sub_3.inkml', 'TrainData2_21_sub_41.inkml', 'TrainData2_25_sub_73.inkml', 'TrainData2_7_sub_1.inkml', 'formulaire002-equation070.inkml', 'TrainData2_20_sub_1.inkml', 'TrainData2_8_sub_88.inkml', 'TrainData1_2_sub_15.inkml', 'formulaire003-equation071.inkml', 'TrainData2_6_sub_63.inkml', 'formulaire004-equation023.inkml', 'TrainData1_1_sub_15.inkml', 'TrainData1_5_sub_1.inkml', 'TrainData1_0_sub_12.inkml', 'TrainData1_0_sub_3.inkml', 'TrainData1_1_sub_12.inkml', 'TrainData1_0_sub_5.inkml', 'TrainData1_3_sub_1.inkml', 'TrainData1_0_sub_28.inkml', 'TrainData1_2_sub_21.inkml', 'TrainData1_3_sub_3.inkml', 'TrainData1_0_sub_15.inkml', 'TrainData1_4_sub_5.inkml', 'TrainData1_5_sub_15.inkml', 'TrainData1_4_sub_7.inkml', 'TrainData1_4_sub_9.inkml', 'TrainData1_4_sub_3.inkml', 'TrainData1_1_sub_28.inkml', 'TrainData1_1_sub_3.inkml', 'TrainData1_3_sub_9.inkml', 'TrainData1_1_sub_1.inkml', 'TrainData1_2_sub_7.inkml', 'TrainData1_1_sub_24.inkml', 'TrainData2_12_sub_73.inkml', 'TrainData2_18_sub_88.inkml', 'TrainData2_19_sub_43.inkml', 'TrainData2_16_sub_20.inkml', 'TrainData2_11_sub_49.inkml', 'TrainData2_1_sub_41.inkml', 'TrainData2_12_sub_33.inkml', 'TrainData2_14_sub_51.inkml', 'TrainData1_5_sub_21.inkml', 'TrainData2_0_sub_63.inkml', 'TrainData2_18_sub_41.inkml', 'TrainData2_20_sub_17.inkml', 'TrainData2_10_sub_98.inkml', 'TrainData2_15_sub_46.inkml', 'TrainData1_6_sub_21.inkml', 'TrainData2_16_sub_41.inkml', 'TrainData2_10_sub_33.inkml', 'TrainData2_11_sub_29.inkml', 'TrainData2_11_sub_98.inkml', 'TrainData1_7_sub_19.inkml', 'TrainData2_18_sub_73.inkml', 'TrainData1_5_sub_7.inkml', 'TrainData2_14_sub_63.inkml', 'TrainData2_17_sub_9.inkml', 'TrainData2_16_sub_15.inkml', 'TrainData2_13_sub_98.inkml', 'TrainData2_13_sub_88.inkml', 'TrainData2_0_sub_61.inkml', 'TrainData2_0_sub_95.inkml', 'TrainData2_16_sub_49.inkml', 'TrainData1_7_sub_9.inkml', 'TrainData2_17_sub_15.inkml', 'TrainData2_13_sub_46.inkml', 'TrainData2_10_sub_13.inkml', 'TrainData2_14_sub_61.inkml', 'TrainData2_13_sub_15.inkml', 'TrainData2_12_sub_11.inkml', 'TrainData2_21_sub_15.inkml', 'TrainData2_12_sub_41.inkml', 'TrainData2_18_sub_17.inkml', 'TrainData2_11_sub_61.inkml', 'TrainData2_13_sub_51.inkml', 'TrainData2_12_sub_63.inkml', 'TrainData2_16_sub_17.inkml', 'TrainData2_10_sub_43.inkml', 'TrainData2_13_sub_61.inkml', 'TrainData2_15_sub_17.inkml', 'TrainData2_10_sub_51.inkml', 'TrainData2_19_sub_73.inkml', 'TrainData2_1_sub_49.inkml', 'TrainData2_15_sub_39.inkml', 'TrainData2_16_sub_88.inkml', 'TrainData2_12_sub_15.inkml', 'TrainData2_0_sub_46.inkml', 'TrainData2_0_sub_49.inkml', 'TrainData2_17_sub_98.inkml', 'TrainData2_19_sub_13.inkml', 'TrainData2_13_sub_13.inkml', 'TrainData2_15_sub_49.inkml', 'TrainData2_17_sub_13.inkml', 'TrainData2_18_sub_51.inkml', 'TrainData2_13_sub_33.inkml', 'TrainData2_12_sub_1.inkml', 'TrainData2_14_sub_9.inkml', 'TrainData2_19_sub_33.inkml', 'TrainData2_14_sub_17.inkml', 'TrainData2_11_sub_95.inkml', 'TrainData1_8_sub_7.inkml', 'TrainData1_6_sub_12.inkml', 'TrainData2_20_sub_13.inkml', 'TrainData2_21_sub_11.inkml', 'TrainData2_19_sub_17.inkml', 'TrainData1_7_sub_28.inkml', 'TrainData2_20_sub_63.inkml', 'TrainData2_10_sub_39.inkml', 'TrainData2_11_sub_41.inkml', 'TrainData2_15_sub_29.inkml', 'TrainData2_17_sub_33.inkml', 'TrainData2_18_sub_1.inkml', 'TrainData2_0_sub_15.inkml', 'TrainData2_14_sub_15.inkml', 'TrainData2_15_sub_20.inkml', 'TrainData1_7_sub_15.inkml', 'TrainData2_15_sub_13.inkml', 'TrainData1_5_sub_5.inkml', 'TrainData2_10_sub_6.inkml', 'TrainData1_6_sub_3.inkml', 'TrainData2_11_sub_9.inkml', 'TrainData2_20_sub_88.inkml', 'TrainData2_0_sub_17.inkml', 'TrainData2_19_sub_63.inkml', 'TrainData2_15_sub_15.inkml', 'TrainData2_18_sub_20.inkml', 'TrainData2_19_sub_20.inkml', 'TrainData2_16_sub_98.inkml', 'TrainData1_8_sub_15.inkml', 'TrainData2_14_sub_20.inkml', 'TrainData2_1_sub_51.inkml', 'TrainData2_16_sub_95.inkml', 'TrainData2_10_sub_49.inkml', 'TrainData1_8_sub_24.inkml', 'TrainData1_5_sub_24.inkml', 'TrainData2_11_sub_71.inkml', 'TrainData2_10_sub_71.inkml', 'TrainData2_14_sub_29.inkml', 'TrainData2_1_sub_15.inkml', 'TrainData2_19_sub_41.inkml', 'TrainData2_14_sub_13.inkml', 'TrainData2_15_sub_6.inkml', 'TrainData2_1_sub_46.inkml', 'TrainData2_16_sub_63.inkml', 'TrainData2_14_sub_46.inkml', 'TrainData1_8_sub_28.inkml', 'TrainData2_20_sub_6.inkml', 'TrainData2_0_sub_29.inkml', 'TrainData2_15_sub_11.inkml', 'TrainData2_20_sub_95.inkml', 'TrainData2_12_sub_61.inkml', 'TrainData2_12_sub_13.inkml', 'TrainData2_2_sub_51.inkml', 'TrainData2_26_sub_17.inkml', 'TrainData2_4_sub_63.inkml', 'TrainData2_3_sub_11.inkml', 'TrainData2_26_sub_71.inkml', 'TrainData2_2_sub_73.inkml', 'TrainData2_25_sub_20.inkml', 'TrainData2_24_sub_20.inkml', 'TrainData2_6_sub_6.inkml', 'TrainData2_23_sub_98.inkml', 'TrainData2_6_sub_1.inkml', 'TrainData2_25_sub_17.inkml', 'TrainData2_22_sub_46.inkml', 'TrainData2_21_sub_17.inkml', 'TrainData2_3_sub_61.inkml', 'TrainData2_26_sub_29.inkml', 'TrainData2_4_sub_20.inkml', 'TrainData2_26_sub_11.inkml', 'TrainData2_24_sub_49.inkml', 'TrainData2_22_sub_98.inkml', 'TrainData2_7_sub_43.inkml', 'TrainData2_23_sub_63.inkml', 'TrainData2_22_sub_51.inkml', 'TrainData2_2_sub_15.inkml', 'TrainData2_22_sub_49.inkml', 'TrainData2_25_sub_51.inkml', 'TrainData2_5_sub_41.inkml', 'TrainData2_6_sub_61.inkml', 'TrainData2_22_sub_11.inkml', 'TrainData2_6_sub_71.inkml', 'TrainData2_5_sub_46.inkml', 'TrainData2_2_sub_29.inkml', 'TrainData2_25_sub_95.inkml', 'TrainData2_24_sub_29.inkml', 'TrainData2_21_sub_63.inkml', 'TrainData2_23_sub_41.inkml', 'TrainData2_24_sub_6.inkml', 'TrainData2_4_sub_43.inkml', 'TrainData2_6_sub_43.inkml', 'TrainData2_4_sub_6.inkml', 'TrainData2_26_sub_1.inkml', 'TrainData2_22_sub_61.inkml', 'TrainData2_5_sub_9.inkml', 'TrainData2_5_sub_43.inkml', 'TrainData2_24_sub_73.inkml', 'TrainData2_6_sub_51.inkml', 'TrainData2_21_sub_43.inkml', 'TrainData2_5_sub_49.inkml', 'TrainData2_4_sub_9.inkml', 'TrainData2_3_sub_15.inkml', 'TrainData2_23_sub_15.inkml', 'TrainData2_23_sub_39.inkml', 'TrainData2_4_sub_13.inkml', 'TrainData2_8_sub_1.inkml', 'TrainData2_6_sub_15.inkml', 'TrainData2_7_sub_51.inkml', 'TrainData2_6_sub_29.inkml', 'TrainData2_26_sub_98.inkml', 'TrainData2_4_sub_17.inkml', 'TrainData2_4_sub_61.inkml', 'TrainData2_7_sub_71.inkml', 'TrainData2_23_sub_88.inkml', 'TrainData2_7_sub_46.inkml', 'TrainData2_25_sub_61.inkml', 'TrainData2_5_sub_20.inkml', 'TrainData2_25_sub_39.inkml', 'TrainData2_22_sub_95.inkml', 'TrainData2_23_sub_17.inkml', 'TrainData2_25_sub_13.inkml', 'TrainData2_2_sub_98.inkml', 'TrainData2_21_sub_9.inkml', 'TrainData2_2_sub_63.inkml', 'TrainData2_22_sub_43.inkml', 'TrainData2_21_sub_95.inkml', 'TrainData2_24_sub_51.inkml', 'TrainData2_5_sub_11.inkml', 'TrainData2_2_sub_9.inkml', 'TrainData2_24_sub_46.inkml', 'TrainData2_5_sub_17.inkml', 'TrainData2_7_sub_15.inkml', 'TrainData2_21_sub_61.inkml', 'TrainData2_3_sub_43.inkml', 'TrainData2_21_sub_73.inkml', 'TrainData2_23_sub_29.inkml', 'TrainData2_4_sub_1.inkml', 'TrainData2_25_sub_1.inkml', 'TrainData2_5_sub_71.inkml', 'TrainData2_24_sub_95.inkml', 'TrainData2_26_sub_33.inkml', 'TrainData2_21_sub_20.inkml', 'TrainData2_7_sub_13.inkml', 'TrainData2_3_sub_63.inkml', 'TrainData2_25_sub_43.inkml', 'TrainData2_2_sub_71.inkml', 'TrainData2_6_sub_49.inkml', 'TrainData2_6_sub_33.inkml', 'TrainData2_23_sub_73.inkml', 'TrainData2_2_sub_46.inkml', 'TrainData2_4_sub_73.inkml', 'formulaire002-equation046.inkml', 'formulaire007-equation023.inkml', 'formulaire008-equation026.inkml', 'formulaire007-equation013.inkml', 'formulaire008-equation061.inkml', 'formulaire007-equation006.inkml', 'formulaire003-equation026.inkml', 'formulaire008-equation006.inkml', 'TrainData2_9_sub_63.inkml', 'formulaire006-equation028.inkml', 'formulaire002-equation015.inkml', 'formulaire006-equation068.inkml', 'formulaire005-equation024.inkml', 'formulaire008-equation037.inkml', 'TrainData2_8_sub_61.inkml', 'formulaire007-equation045.inkml', 'formulaire007-equation058.inkml', 'TrainData2_8_sub_95.inkml', 'TrainData2_9_sub_29.inkml', 'formulaire001-equation070.inkml', 'formulaire004-equation056.inkml', 'TrainData2_8_sub_46.inkml', 'TrainData2_8_sub_11.inkml', 'formulaire004-equation013.inkml', 'formulaire004-equation063.inkml', 'formulaire004-equation003.inkml', 'TrainData2_9_sub_1.inkml', 'formulaire002-equation053.inkml', 'formulaire001-equation053.inkml', 'formulaire001-equation071.inkml', 'formulaire008-equation045.inkml', 'formulaire004-equation043.inkml', 'formulaire003-equation003.inkml', 'formulaire003-equation018.inkml', 'formulaire007-equation068.inkml', 'TrainData2_9_sub_46.inkml', 'formulaire001-equation033.inkml', 'formulaire007-equation071.inkml', 'formulaire008-equation001.inkml', 'formulaire001-equation058.inkml', 'formulaire006-equation018.inkml', 'formulaire008-equation013.inkml', 'formulaire005-equation055.inkml', 'formulaire008-equation071.inkml', 'formulaire004-equation034.inkml', 'TrainData2_9_sub_6.inkml', 'formulaire003-equation020.inkml', 'formulaire006-equation040.inkml', 'TrainData2_9_sub_11.inkml', 'formulaire008-equation043.inkml', 'formulaire004-equation046.inkml', 'formulaire003-equation043.inkml', 'formulaire006-equation056.inkml', 'formulaire001-equation015.inkml', 'formulaire003-equation011.inkml', 'formulaire007-equation021.inkml', 'formulaire006-equation036.inkml', 'formulaire006-equation026.inkml', 'formulaire008-equation028.inkml', 'formulaire007-equation016.inkml', 'TrainData2_9_sub_20.inkml', 'formulaire002-equation058.inkml', 'formulaire008-equation063.inkml', 'formulaire006-equation050.inkml', 'formulaire007-equation018.inkml', 'formulaire001-equation001.inkml', 'TrainData2_8_sub_6.inkml', 'TrainData2_8_sub_13.inkml', 'TrainData2_8_sub_9.inkml', 'TrainData2_9_sub_71.inkml', 'formulaire008-equation003.inkml', 'formulaire003-equation046.inkml', 'formulaire006-equation013.inkml', 'formulaire007-equation053.inkml', 'formulaire006-equation020.inkml', 'formulaire004-equation000.inkml', 'formulaire001-equation011.inkml', 'formulaire004-equation070.inkml', 'formulaire003-equation025.inkml', 'formulaire003-equation070.inkml', 'formulaire003-equation073.inkml', 'formulaire005-equation016.inkml']\n"
          ]
        },
        {
          "output_type": "stream",
          "name": "stderr",
          "text": [
            "100%|██████████| 921/921 [16:25<00:00,  1.07s/it]\n"
          ]
        },
        {
          "output_type": "display_data",
          "data": {
            "text/plain": [
              "<Figure size 640x480 with 0 Axes>"
            ]
          },
          "metadata": {}
        }
      ]
    }
  ]
}